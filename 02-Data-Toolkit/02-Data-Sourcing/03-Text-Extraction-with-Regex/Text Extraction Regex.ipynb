{
 "cells": [
  {
   "cell_type": "code",
   "execution_count": 1,
   "metadata": {},
   "outputs": [],
   "source": [
    "import re"
   ]
  },
  {
   "cell_type": "code",
   "execution_count": 2,
   "metadata": {},
   "outputs": [],
   "source": [
    "filepath = \"data/receipts.txt\"\n",
    "with open(filepath) as f:\n",
    "    receipts_str = f.read()\n",
    "\n",
    "delimiter = \"====================================\"\n",
    "\n",
    "receipts_list = receipts_str.split(delimiter)"
   ]
  },
  {
   "cell_type": "code",
   "execution_count": 3,
   "metadata": {},
   "outputs": [],
   "source": [
    "receipts_dict = {\"date\": [], \"quantity\": [],\"total_amount\": []}"
   ]
  },
  {
   "cell_type": "code",
   "execution_count": 13,
   "metadata": {},
   "outputs": [
    {
     "data": {
      "text/plain": [
       "str"
      ]
     },
     "execution_count": 13,
     "metadata": {},
     "output_type": "execute_result"
    }
   ],
   "source": [
    "type(receipts_list[0])"
   ]
  },
  {
   "cell_type": "code",
   "execution_count": 16,
   "metadata": {},
   "outputs": [
    {
     "data": {
      "text/plain": [
       "[]"
      ]
     },
     "execution_count": 16,
     "metadata": {},
     "output_type": "execute_result"
    }
   ],
   "source": [
    "total_amount_pattern = r\"Total Amount +(\\d+\\.\\d{2}) €\"\n",
    "total_amount = re.findall(total_amount_pattern, receipts_list[0])\n",
    "total_amount"
   ]
  },
  {
   "cell_type": "code",
   "execution_count": 25,
   "metadata": {},
   "outputs": [],
   "source": [
    "for receipt in receipts_list:\n",
    "    date_pattern = r\"\\d{2}-\\d{2}-\\d{4}\"\n",
    "    date = re.findall(date_pattern, receipt)[0]\n",
    "\n",
    "    total_amount_pattern = r\"\\d+\\.\\d{2}\"\n",
    "    total_amount = re.findall(total_amount_pattern, receipt)[0]\n",
    "\n",
    "    quantity_pattern = r\"Quantity +(\\d+)\"\n",
    "    quantity = re.findall(quantity_pattern, receipt)[0]\n",
    "\n",
    "    receipts_dict[\"date\"].append(date)\n",
    "    receipts_dict[\"total_amount\"].append(total_amount)\n",
    "    receipts_dict[\"quantity\"].append(quantity)"
   ]
  },
  {
   "cell_type": "code",
   "execution_count": 31,
   "metadata": {},
   "outputs": [],
   "source": [
    "import pandas as pd\n",
    "\n",
    "receipts_df = pd.DataFrame(receipts_dict).head()"
   ]
  },
  {
   "cell_type": "code",
   "execution_count": 32,
   "metadata": {},
   "outputs": [],
   "source": [
    "receipts_df['date'] = pd.to_datetime(receipts_df['date'], format=\"%d-%m-%Y\")"
   ]
  },
  {
   "cell_type": "code",
   "execution_count": null,
   "metadata": {},
   "outputs": [],
   "source": [
    "receipts_df = receipts_df.set_index('date')"
   ]
  }
 ],
 "metadata": {
  "kernelspec": {
   "display_name": "Python 3",
   "language": "python",
   "name": "python3"
  },
  "language_info": {
   "codemirror_mode": {
    "name": "ipython",
    "version": 3
   },
   "file_extension": ".py",
   "mimetype": "text/x-python",
   "name": "python",
   "nbconvert_exporter": "python",
   "pygments_lexer": "ipython3",
   "version": "3.7.6"
  }
 },
 "nbformat": 4,
 "nbformat_minor": 4
}
