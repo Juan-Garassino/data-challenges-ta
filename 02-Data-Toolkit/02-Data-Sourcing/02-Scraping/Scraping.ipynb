{
 "cells": [
  {
   "cell_type": "code",
   "execution_count": 1,
   "metadata": {},
   "outputs": [],
   "source": [
    "import requests\n",
    "from bs4 import BeautifulSoup\n",
    "\n",
    "import numpy as np\n",
    "import pandas as pd\n",
    "\n",
    "%matplotlib inline\n",
    "import matplotlib"
   ]
  },
  {
   "cell_type": "code",
   "execution_count": 2,
   "metadata": {},
   "outputs": [],
   "source": [
    "url = \"http://books.toscrape.com/\"\n",
    "\n",
    "def fetch_page(page):\n",
    "    print(f\"\\rscraping page {page + 1}\", end = \"\") # This just prints and erase the page being scraped\n",
    "    response = requests.get(url + f'catalogue/page-{page + 1}.html',\n",
    "                            headers={\"Accept-Language\":\"en-US\"} # This makes the request to the URL, the response shuold be <Response [200]>\n",
    "    )\n",
    "    soup = BeautifulSoup(response.content, \"html.parser\") # This creates the soup based on the contect read as a HTML\n",
    "    return soup"
   ]
  },
  {
   "cell_type": "code",
   "execution_count": 3,
   "metadata": {},
   "outputs": [],
   "source": [
    "ratings = {'One':1, 'Two':2, 'Three':3, 'Four':4, 'Five':5}"
   ]
  },
  {
   "cell_type": "code",
   "execution_count": 4,
   "metadata": {},
   "outputs": [],
   "source": [
    "def add_books_to_dict(soup, dict):\n",
    "    # The <article /> element with the class product_pod is what we are looking for!\n",
    "    # All the books on the page have exactly the same structure, that’s exactly what we need for parsing.\n",
    "    for book_html in soup.find_all(class_=\"product_pod\"):\n",
    "        # The title is located in an HTML link tag <a /> inside the <h3 /> tag. So we need to first .find() the h3, then the a.\n",
    "        # And select the title in the <a /> tag’s attributes\n",
    "        dict['Title'].append(book_html.find(\"h3\").find(\"a\").string)\n",
    "        # The price is located within a <p class=\"price_color\"></p>\n",
    "        dict['Price'].append(float(book_html.find(class_=\"price_color\").string.strip('£')))\n",
    "        # there is a <p class=\"star-rating TEXT\"></p> where TEXT can take the values \"One\", \"Two\", \"Three\", \"Four\" or \"Five\"\n",
    "        stars_html = book_html.find(class_=\"star-rating\")\n",
    "        dict['Rating'].append(ratings.get(stars_html.attrs['class'][1], 0))"
   ]
  },
  {
   "cell_type": "code",
   "execution_count": 5,
   "metadata": {},
   "outputs": [],
   "source": [
    "books_dict = { 'Title': [], 'Price': [], 'Rating': [] }"
   ]
  },
  {
   "cell_type": "code",
   "execution_count": 6,
   "metadata": {},
   "outputs": [],
   "source": [
    "def create_books_df(max_page):\n",
    "    books_dict = { 'Title': [], 'Price': [], 'Rating': [] }\n",
    "    for page in range(max_page):\n",
    "        soup = fetch_page(page) # First Function\n",
    "        add_books_to_dict(soup, books_dict) # Second Function\n",
    "    return pd.DataFrame.from_dict(books_dict)"
   ]
  },
  {
   "cell_type": "code",
   "execution_count": null,
   "metadata": {},
   "outputs": [
    {
     "name": "stdout",
     "output_type": "stream",
     "text": [
      "scraping page 21"
     ]
    }
   ],
   "source": [
    "books_df = create_books_df(50)\n",
    "books_df.shape"
   ]
  },
  {
   "cell_type": "code",
   "execution_count": null,
   "metadata": {},
   "outputs": [],
   "source": [
    "books_df.head()"
   ]
  },
  {
   "cell_type": "code",
   "execution_count": null,
   "metadata": {},
   "outputs": [],
   "source": [
    "from nbresult import ChallengeResult\n",
    "\n",
    "result = ChallengeResult('books',\n",
    "    books_dict=books_dict,\n",
    "    columns=books_df.columns,\n",
    "    title=str(books_df.loc[0,'Title']),\n",
    "    price=books_df.loc[0,'Price'],\n",
    "    rating=books_df.loc[0,'Rating']\n",
    ")\n",
    "result.write()\n",
    "print(result.check())"
   ]
  },
  {
   "cell_type": "code",
   "execution_count": null,
   "metadata": {},
   "outputs": [],
   "source": [
    "def parse_rating(rating_classes):\n",
    "    if 'One' in rating_classes:\n",
    "        return 1\n",
    "    elif 'Two' in rating_classes:\n",
    "        return 2\n",
    "    elif 'Three' in rating_classes:\n",
    "        return 3\n",
    "    elif 'Four' in rating_classes:\n",
    "        return 4\n",
    "    elif 'Five' in rating_classes:\n",
    "        return 5\n",
    "    else:\n",
    "        return 0"
   ]
  },
  {
   "cell_type": "code",
   "execution_count": null,
   "metadata": {},
   "outputs": [],
   "source": [
    "all_books_dict = { 'Title': [], 'Price': [], 'Rating': [] }\n",
    "\n",
    "MAX_PAGE = 30\n",
    "for page in range(1, MAX_PAGE + 1):\n",
    "    print(f\"Parsing page {page}...\")\n",
    "    url = f\"http://books.toscrape.com/catalogue/page-{page}.html\"\n",
    "    response = requests.get(url)\n",
    "    soup = BeautifulSoup(response.content, \"html.parser\")\n",
    "\n",
    "    for book in soup.find_all(\"article\", class_=\"product_pod\"):\n",
    "        title = book.find(\"h3\").find(\"a\").attrs[\"title\"]\n",
    "        price = float(book.find(\"p\", class_=\"price_color\").text[1:])\n",
    "        rating = parse_rating(book.find(\"p\", class_=\"star-rating\").attr[\"class\"])\n",
    "        all_books_dict[\"Title\"].append(title)\n",
    "        all_books_dict[\"Price\"].append(price)\n",
    "        all_books_dict[\"Rating\"].append(rating)\n",
    "\n",
    "print(\"Done!\")"
   ]
  },
  {
   "cell_type": "code",
   "execution_count": null,
   "metadata": {},
   "outputs": [],
   "source": []
  }
 ],
 "metadata": {
  "kernelspec": {
   "display_name": "Python 3",
   "language": "python",
   "name": "python3"
  },
  "language_info": {
   "codemirror_mode": {
    "name": "ipython",
    "version": 3
   },
   "file_extension": ".py",
   "mimetype": "text/x-python",
   "name": "python",
   "nbconvert_exporter": "python",
   "pygments_lexer": "ipython3",
   "version": "3.7.6"
  }
 },
 "nbformat": 4,
 "nbformat_minor": 4
}
